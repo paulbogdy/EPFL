{
 "cells": [
  {
   "cell_type": "code",
   "execution_count": 1,
   "metadata": {},
   "outputs": [],
   "source": [
    "import numpy as np\n",
    "import matplotlib.pyplot as plt\n",
    "import pandas as pd"
   ]
  },
  {
   "cell_type": "markdown",
   "metadata": {},
   "source": [
    "# Reading the data"
   ]
  },
  {
   "cell_type": "code",
   "execution_count": 26,
   "metadata": {},
   "outputs": [
    {
     "data": {
      "text/html": [
       "<div>\n",
       "<style scoped>\n",
       "    .dataframe tbody tr th:only-of-type {\n",
       "        vertical-align: middle;\n",
       "    }\n",
       "\n",
       "    .dataframe tbody tr th {\n",
       "        vertical-align: top;\n",
       "    }\n",
       "\n",
       "    .dataframe thead th {\n",
       "        text-align: right;\n",
       "    }\n",
       "</style>\n",
       "<table border=\"1\" class=\"dataframe\">\n",
       "  <thead>\n",
       "    <tr style=\"text-align: right;\">\n",
       "      <th></th>\n",
       "      <th>Unnamed: 0</th>\n",
       "      <th>Intent</th>\n",
       "      <th>Gender</th>\n",
       "      <th>Age</th>\n",
       "      <th>Race</th>\n",
       "      <th>Deaths</th>\n",
       "      <th>Population</th>\n",
       "      <th>Rate</th>\n",
       "    </tr>\n",
       "  </thead>\n",
       "  <tbody>\n",
       "    <tr>\n",
       "      <th>0</th>\n",
       "      <td>1</td>\n",
       "      <td>None selected</td>\n",
       "      <td>None selected</td>\n",
       "      <td>None selected</td>\n",
       "      <td>None selected</td>\n",
       "      <td>33599</td>\n",
       "      <td>316299978</td>\n",
       "      <td>10.6</td>\n",
       "    </tr>\n",
       "    <tr>\n",
       "      <th>1</th>\n",
       "      <td>2</td>\n",
       "      <td>None selected</td>\n",
       "      <td>None selected</td>\n",
       "      <td>None selected</td>\n",
       "      <td>White</td>\n",
       "      <td>22079</td>\n",
       "      <td>197369634</td>\n",
       "      <td>11.2</td>\n",
       "    </tr>\n",
       "    <tr>\n",
       "      <th>2</th>\n",
       "      <td>3</td>\n",
       "      <td>None selected</td>\n",
       "      <td>None selected</td>\n",
       "      <td>None selected</td>\n",
       "      <td>Black</td>\n",
       "      <td>7765</td>\n",
       "      <td>38896382</td>\n",
       "      <td>20.0</td>\n",
       "    </tr>\n",
       "    <tr>\n",
       "      <th>3</th>\n",
       "      <td>4</td>\n",
       "      <td>None selected</td>\n",
       "      <td>None selected</td>\n",
       "      <td>None selected</td>\n",
       "      <td>Hispanic</td>\n",
       "      <td>3007</td>\n",
       "      <td>54049078</td>\n",
       "      <td>5.6</td>\n",
       "    </tr>\n",
       "    <tr>\n",
       "      <th>4</th>\n",
       "      <td>5</td>\n",
       "      <td>None selected</td>\n",
       "      <td>None selected</td>\n",
       "      <td>None selected</td>\n",
       "      <td>Asian/Pacific Islander</td>\n",
       "      <td>442</td>\n",
       "      <td>16315561</td>\n",
       "      <td>2.7</td>\n",
       "    </tr>\n",
       "  </tbody>\n",
       "</table>\n",
       "</div>"
      ],
      "text/plain": [
       "   Unnamed: 0         Intent         Gender            Age  \\\n",
       "0           1  None selected  None selected  None selected   \n",
       "1           2  None selected  None selected  None selected   \n",
       "2           3  None selected  None selected  None selected   \n",
       "3           4  None selected  None selected  None selected   \n",
       "4           5  None selected  None selected  None selected   \n",
       "\n",
       "                     Race  Deaths  Population  Rate  \n",
       "0           None selected   33599   316299978  10.6  \n",
       "1                   White   22079   197369634  11.2  \n",
       "2                   Black    7765    38896382  20.0  \n",
       "3                Hispanic    3007    54049078   5.6  \n",
       "4  Asian/Pacific Islander     442    16315561   2.7  "
      ]
     },
     "execution_count": 26,
     "metadata": {},
     "output_type": "execute_result"
    }
   ],
   "source": [
    "df = pd.read_csv(\"interactive_data.csv\")\n",
    "df.head(5)"
   ]
  },
  {
   "cell_type": "markdown",
   "metadata": {},
   "source": [
    "Nearly two-thirds of gun deaths are suicides."
   ]
  },
  {
   "cell_type": "code",
   "execution_count": 31,
   "metadata": {},
   "outputs": [
    {
     "data": {
      "text/plain": [
       "Intent\n",
       "Accident           4368\n",
       "Homicide          93808\n",
       "None selected    268791\n",
       "Suicide          168464\n",
       "Unknown            2149\n",
       "Name: Deaths, dtype: int64"
      ]
     },
     "execution_count": 31,
     "metadata": {},
     "output_type": "execute_result"
    }
   ],
   "source": [
    "deaths_by_intent = df.groupby(\"Intent\")[\"Deaths\"].sum()\n",
    "deaths_by_intent"
   ]
  },
  {
   "cell_type": "code",
   "execution_count": 38,
   "metadata": {},
   "outputs": [
    {
     "name": "stdout",
     "output_type": "stream",
     "text": [
      "Total number of deaths: 268789\n",
      "Total suicides: 168464\n",
      "Suicide ratio: 62.67518388029272 %\n"
     ]
    }
   ],
   "source": [
    "total_deaths_by_intent = deaths_by_intent.drop([\"None selected\"]).sum()\n",
    "print(f\"Total number of deaths: {total_deaths_by_intent}\")\n",
    "suicides = deaths_by_intent[\"Suicide\"]\n",
    "print(f\"Total suicides: {suicides}\")\n",
    "\n",
    "print(f\"Suicide ratio: {suicides / total_deaths_by_intent * 100} %\")"
   ]
  },
  {
   "cell_type": "markdown",
   "metadata": {},
   "source": [
    "More than 85 percent of suicide victims are male."
   ]
  },
  {
   "cell_type": "code",
   "execution_count": 41,
   "metadata": {},
   "outputs": [
    {
     "data": {
      "text/plain": [
       "Gender\n",
       "Female           11587\n",
       "Male             72646\n",
       "None selected    84231\n",
       "Name: Deaths, dtype: int64"
      ]
     },
     "execution_count": 41,
     "metadata": {},
     "output_type": "execute_result"
    }
   ],
   "source": [
    "deaths_by_gender = df[df[\"Intent\"] == \"Suicide\"].groupby(\"Gender\")[\"Deaths\"].sum()\n",
    "deaths_by_gender"
   ]
  },
  {
   "cell_type": "code",
   "execution_count": 42,
   "metadata": {},
   "outputs": [
    {
     "name": "stdout",
     "output_type": "stream",
     "text": [
      "Total suicides: 84233\n",
      "Male suicides: 72646\n",
      "Male suicide ratio: 86.24410860351644 %\n"
     ]
    }
   ],
   "source": [
    "total_suicides_by_gender = deaths_by_gender.drop([\"None selected\"]).sum()\n",
    "print(f\"Total suicides: {total_suicides_by_gender}\")\n",
    "male_suicides = deaths_by_gender[\"Male\"]\n",
    "print(f\"Male suicides: {male_suicides}\")\n",
    "\n",
    "print(f\"Male suicide ratio: {male_suicides / total_suicides_by_gender * 100} %\")"
   ]
  },
  {
   "cell_type": "markdown",
   "metadata": {},
   "source": [
    "Around a third of all gun deaths are homicides."
   ]
  },
  {
   "cell_type": "code",
   "execution_count": 44,
   "metadata": {},
   "outputs": [
    {
     "name": "stdout",
     "output_type": "stream",
     "text": [
      "Number of homicides: 93808\n",
      "Homicide Ratio: 34.90023773294294 %\n"
     ]
    }
   ],
   "source": [
    "homicides = deaths_by_intent[\"Homicide\"]\n",
    "print(f\"Number of homicides: {homicides}\")\n",
    "\n",
    "print(f\"Homicide Ratio: {homicides / total_deaths_by_intent * 100} %\")"
   ]
  },
  {
   "cell_type": "markdown",
   "metadata": {},
   "source": [
    "Around two-thirds of homicide victims who are males in the age-group of 15 - 34 are black."
   ]
  },
  {
   "cell_type": "code",
   "execution_count": 49,
   "metadata": {},
   "outputs": [
    {
     "name": "stdout",
     "output_type": "stream",
     "text": [
      "Total such deaths: 6521\n",
      "Black Male Deaths: 4312\n",
      "Death Ratio of Black Male in Homicides between 15-34: 66.12482748044778 %\n"
     ]
    },
    {
     "name": "stderr",
     "output_type": "stream",
     "text": [
      "C:\\Users\\jurcu\\AppData\\Local\\Temp\\ipykernel_28052\\1790903224.py:1: UserWarning: Boolean Series key will be reindexed to match DataFrame index.\n",
      "  deaths_grouped = df[df[\"Age\"] == '15 - 34'][df[\"Intent\"] == \"Homicide\"][df[\"Gender\"] == \"Male\"].groupby(\"Race\")[\"Deaths\"].sum()\n"
     ]
    }
   ],
   "source": [
    "deaths_grouped = df[df[\"Age\"] == '15 - 34'][df[\"Intent\"] == \"Homicide\"][df[\"Gender\"] == \"Male\"].groupby(\"Race\")[\"Deaths\"].sum()\n",
    "total_deaths = deaths_grouped.drop([\"None selected\"]).sum()\n",
    "print(f\"Total such deaths: {total_deaths}\")\n",
    "black_deaths = deaths_grouped[\"Black\"]\n",
    "print(f\"Black Male Deaths: {black_deaths}\")\n",
    "\n",
    "print(f\"Death Ratio of Black Male in Homicides between 15-34: {black_deaths / total_deaths * 100} %\")"
   ]
  },
  {
   "cell_type": "markdown",
   "metadata": {},
   "source": [
    "Women constitue only 15 percent of the total homicide victims."
   ]
  },
  {
   "cell_type": "code",
   "execution_count": 50,
   "metadata": {},
   "outputs": [
    {
     "data": {
      "text/plain": [
       "Gender\n",
       "Female            7167\n",
       "Male             39739\n",
       "None selected    46902\n",
       "Name: Deaths, dtype: int64"
      ]
     },
     "execution_count": 50,
     "metadata": {},
     "output_type": "execute_result"
    }
   ],
   "source": [
    "homicides_by_gender = df[df[\"Intent\"] == \"Homicide\"].groupby(\"Gender\")[\"Deaths\"].sum()\n",
    "homicides_by_gender"
   ]
  },
  {
   "cell_type": "code",
   "execution_count": 51,
   "metadata": {},
   "outputs": [
    {
     "name": "stdout",
     "output_type": "stream",
     "text": [
      "Total homicides: 46906\n",
      "Female homicides: 7167\n",
      "Female homicides ratio: 15.279495160533834 %\n"
     ]
    }
   ],
   "source": [
    "total_homicides = homicides_by_gender.drop([\"None selected\"]).sum()\n",
    "print(f\"Total homicides: {total_homicides}\")\n",
    "female_homicides = homicides_by_gender[\"Female\"]\n",
    "print(f\"Female homicides: {female_homicides}\")\n",
    "\n",
    "print(f\"Female homicides ratio: {female_homicides / total_homicides * 100} %\")"
   ]
  }
 ],
 "metadata": {
  "kernelspec": {
   "display_name": "base",
   "language": "python",
   "name": "python3"
  },
  "language_info": {
   "codemirror_mode": {
    "name": "ipython",
    "version": 3
   },
   "file_extension": ".py",
   "mimetype": "text/x-python",
   "name": "python",
   "nbconvert_exporter": "python",
   "pygments_lexer": "ipython3",
   "version": "3.11.4"
  },
  "orig_nbformat": 4
 },
 "nbformat": 4,
 "nbformat_minor": 2
}
